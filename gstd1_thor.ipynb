{
 "cells": [
  {
   "cell_type": "code",
   "execution_count": null,
   "metadata": {},
   "outputs": [],
   "source": [
    "## most up to date version of code that scans for forward and reverse binding sites\n",
    "## imports the table of genes\n",
    "import numpy as np\n",
    "import pandas as pd\n",
    "dna_sequences = pd.read_csv('gstd1_thor.csv', delimiter=',')\n",
    "dna_sequences"
   ]
  },
  {
   "cell_type": "code",
   "execution_count": null,
   "metadata": {},
   "outputs": [],
   "source": [
    "## sets the transcription factor pfm used to analyze sequence \n",
    "## this is the human pfm for ATF4 \n",
    "profile = {'A': [210, 169, 639, 0, 19, 888, 2, 1, 40, 879, 888, 0, 414], 'C': [71, 117, 202, 0, 0, 0, 372, 0, 838, 21, 3, 266, 272], 'G': [442, 409, 127, 7, 1090, 0, 9, 1104, 16, 0, 1, 62, 101], 'T': [170, 213, 3, 981, 11, 25, 470, 4, 113, 3, 4, 714, 78]}\n",
    "profilerevcomp = {'T': [414, 0, 888, 879, 40, 1, 2, 888, 19, 0, 639, 169, 210], 'G': [272, 266, 3, 21, 838, 0, 372, 0, 0, 0, 202, 117, 71], 'C': [101, 62, 1, 0, 16, 1104, 9, 0, 1090, 7, 127, 409, 442], 'A': [78, 714, 4, 3, 113, 4, 470, 25, 11, 981, 3, 213, 170]}\n",
    "## generates maximum binding score of transcription factor\n",
    "max_binding_list = []\n",
    "for i in range(len(profile['A'])):\n",
    "    score_list = []\n",
    "    score_list.append(profile['A'][i])\n",
    "    score_list.append(profile['C'][i])\n",
    "    score_list.append(profile['G'][i])\n",
    "    score_list.append(profile['T'][i])\n",
    "    max_binding_list.append(max(score_list))\n",
    "max_score = sum(max_binding_list)"
   ]
  },
  {
   "cell_type": "code",
   "execution_count": null,
   "metadata": {
    "scrolled": false
   },
   "outputs": [],
   "source": [
    "from termcolor import colored \n",
    "from colorama import Fore\n",
    "from colorama import Style\n",
    "from matplotlib import pyplot\n",
    "import matplotlib.patches as mpatches\n",
    "import re\n",
    "## goes through DNA sequences in data frame and analyzes each\n",
    "DNA_column = dna_sequences['sequence']\n",
    "gene_column = dna_sequences['gene']\n",
    "for i in range(len(DNA_column)):\n",
    "    ## accesses sequences from spreadsheet \n",
    "    DNA = DNA_column.iloc[i]\n",
    "    seq = str(DNA).lower()\n",
    "    gene = gene_column.iloc[i]\n",
    "    print('\\n' + Fore.RED + '\\033[5m' + gene)\n",
    "    ## reads DNA sequence moving through one base pair at a time and creating binding scores for sequences equal to the length of the transcription factor binding site\n",
    "    def transcription_factor (seq, profile):\n",
    "        width = len(profile['T'])\n",
    "        bindingscore = []\n",
    "        for i in range(len(seq)-width):\n",
    "            score = 0\n",
    "            for j in range(width):\n",
    "                letter = seq[i+j]\n",
    "                score += profile[letter][j]\n",
    "            bindingscore.append (score)\n",
    "        return bindingscore \n",
    "    upperseq = seq.upper()\n",
    "    bindingscores = transcription_factor(upperseq, profile)\n",
    "    revcompbindingscores = transcription_factor (upperseq, profilerevcomp)\n",
    "    ## generates figures \n",
    "    pyplot.plot (revcompbindingscores)\n",
    "    pyplot.ylim (0.76 * max_score, max_score)\n",
    "    pyplot.plot (bindingscores, \"green\")\n",
    "    pyplot.ylim (0.76 * max_score, max_score)\n",
    "    green_patch = mpatches.Patch(color='green', label='forward strand sites')\n",
    "    blue_patch = mpatches.Patch(color='blue', label='reverse strand sites')\n",
    "    pyplot.legend(handles=[green_patch, blue_patch])\n",
    "    pyplot.show()\n",
    "    ## presents binding site information \n",
    "    forsites = []\n",
    "    forpairs = []\n",
    "    revsites = []\n",
    "    revpairs = []\n",
    "    def binding_sites (binding, sites, pairs): \n",
    "        for i in range (len(binding)):\n",
    "            if binding[i] > 0.76 * max_score: \n",
    "                number = binding[i]\n",
    "                sequence = DNA[i:i + len(profile['A'])]\n",
    "                sites.append(sequence)\n",
    "                percent_max_score = int(number/max_score * 100.0)\n",
    "                pair = sequence.upper() + ': ' + str(percent_max_score) + \" percent of the max binding score\"\n",
    "                pairs.append(str(pair))\n",
    "        return sites, pairs \n",
    "    binding_sites(bindingscores, forsites, forpairs)\n",
    "    binding_sites(revcompbindingscores, revsites, revpairs)\n",
    "    ## color codes sites and displays them in the DNA sequence \n",
    "    def replace_all(text, sites, color):\n",
    "        for i in range (len(sites)):\n",
    "            visible_sites = colored(sites[i].upper(), color, attrs=['bold'])\n",
    "            text = text.replace(sites[i], visible_sites)\n",
    "        return text\n",
    "    forDNA = replace_all(seq, forsites, 'green')\n",
    "    finalDNA = replace_all(forDNA, revsites, 'blue')\n",
    "    print(finalDNA)\n",
    "    ##presents binding scores for both original and revcomp\n",
    "    allsites = forsites + revsites\n",
    "    print('\\n' + Fore.RED + str(len(allsites)) + ' binding sites')\n",
    "    print(Fore.BLUE + '\\n'.join(revpairs) + Fore.GREEN + '\\n'.join(forpairs))"
   ]
  }
 ],
 "metadata": {
  "kernelspec": {
   "display_name": "Python 3",
   "language": "python",
   "name": "python3"
  },
  "language_info": {
   "codemirror_mode": {
    "name": "ipython",
    "version": 3
   },
   "file_extension": ".py",
   "mimetype": "text/x-python",
   "name": "python",
   "nbconvert_exporter": "python",
   "pygments_lexer": "ipython3",
   "version": "3.7.4"
  }
 },
 "nbformat": 4,
 "nbformat_minor": 2
}
