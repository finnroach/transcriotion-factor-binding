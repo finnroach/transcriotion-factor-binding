{
 "cells": [
  {
   "cell_type": "code",
   "execution_count": 34,
   "metadata": {},
   "outputs": [
    {
     "name": "stdout",
     "output_type": "stream",
     "text": [
      "gstd1_thor.csv\n"
     ]
    },
    {
     "data": {
      "text/html": [
       "<div>\n",
       "<style scoped>\n",
       "    .dataframe tbody tr th:only-of-type {\n",
       "        vertical-align: middle;\n",
       "    }\n",
       "\n",
       "    .dataframe tbody tr th {\n",
       "        vertical-align: top;\n",
       "    }\n",
       "\n",
       "    .dataframe thead th {\n",
       "        text-align: right;\n",
       "    }\n",
       "</style>\n",
       "<table border=\"1\" class=\"dataframe\">\n",
       "  <thead>\n",
       "    <tr style=\"text-align: right;\">\n",
       "      <th></th>\n",
       "      <th>gene</th>\n",
       "      <th>sequence</th>\n",
       "    </tr>\n",
       "  </thead>\n",
       "  <tbody>\n",
       "    <tr>\n",
       "      <td>0</td>\n",
       "      <td>gstd1</td>\n",
       "      <td>gagcccacttttataggggccggctgtggtcgccacaatgccggca...</td>\n",
       "    </tr>\n",
       "    <tr>\n",
       "      <td>1</td>\n",
       "      <td>thor</td>\n",
       "      <td>taagtttcgaaaattggaagctgagactacatcgagtattattaag...</td>\n",
       "    </tr>\n",
       "  </tbody>\n",
       "</table>\n",
       "</div>"
      ],
      "text/plain": [
       "    gene                                           sequence\n",
       "0  gstd1  gagcccacttttataggggccggctgtggtcgccacaatgccggca...\n",
       "1   thor  taagtttcgaaaattggaagctgagactacatcgagtattattaag..."
      ]
     },
     "execution_count": 34,
     "metadata": {},
     "output_type": "execute_result"
    }
   ],
   "source": [
    "## this template code allows the user to import their own spreadsheet of genes and use the code with the transcription factor pfm of their choice\n",
    "import numpy as np\n",
    "import pandas as pd\n",
    "dna_sequences = pd.read_csv(input(), delimiter=',')\n",
    "dna_sequences"
   ]
  },
  {
   "cell_type": "code",
   "execution_count": 35,
   "metadata": {},
   "outputs": [
    {
     "name": "stdout",
     "output_type": "stream",
     "text": [
      "Input transcription factor name\n",
      "atf4\n"
     ]
    }
   ],
   "source": [
    "## choses pfm dictionary: either stored in code, or user inputs when they run the code\n",
    "print('Input transcription factor name')\n",
    "factor = input()\n",
    "if factor.upper() == 'ATF4':\n",
    "    profile = {'A': [210, 169, 639, 0, 19, 888, 2, 1, 40, 879, 888, 0, 414], 'C': [71, 117, 202, 0, 0, 0, 372, 0, 838, 21, 3, 266, 272], 'G': [442, 409, 127, 7, 1090, 0, 9, 1104, 16, 0, 1, 62, 101], 'T': [170, 213, 3, 981, 11, 25, 470, 4, 113, 3, 4, 714, 78]}\n",
    "    profilerevcomp = {'T': [414, 0, 888, 879, 40, 1, 2, 888, 19, 0, 639, 169, 210], 'G': [272, 266, 3, 21, 838, 0, 372, 0, 0, 0, 202, 117, 71], 'C': [101, 62, 1, 0, 16, 1104, 9, 0, 1090, 7, 127, 409, 442], 'A': [78, 714, 4, 3, 113, 4, 470, 25, 11, 981, 3, 213, 170]}\n",
    "else: \n",
    "    print('Enter position frequency matrix scores for A in the format 3 4 5:')\n",
    "    item1 = [float(x) for x in input().split()]\n",
    "    print('Enter position frequency matrix scores for C in the format 3 4 5:')\n",
    "    item2 = [float(x) for x in input().split()]\n",
    "    print('Enter position frequency matrix scores for G in the format 3 4 5:')\n",
    "    item3 = [float(x) for x in input().split()]\n",
    "    print('Enter position frequency matrix scores for T in the format 3 4 5:')\n",
    "    item4 = [float(x) for x in input().split()]\n",
    "    profile = {'A':item1, 'C': item2, 'G': item3, 'T': item4}\n",
    "    profilerevcomp = {'T':item1[::-1], 'G': item2[::-1], 'C': item3[::-1], 'A': item4[::-1]}\n",
    " ## generates maximum binding score of transcription factor\n",
    "max_binding_list = []\n",
    "for i in range(len(profile['A'])):\n",
    "    score_list = []\n",
    "    score_list.append(profile['A'][i])\n",
    "    score_list.append(profile['C'][i])\n",
    "    score_list.append(profile['G'][i])\n",
    "    score_list.append(profile['T'][i])\n",
    "    max_binding_list.append(max(score_list))\n",
    "max_score = sum(max_binding_list)"
   ]
  },
  {
   "cell_type": "code",
   "execution_count": 36,
   "metadata": {
    "scrolled": false
   },
   "outputs": [
    {
     "name": "stdout",
     "output_type": "stream",
     "text": [
      "Input name of column with DNA sequences\n",
      "sequence\n",
      "Input name of column with gene names\n",
      "gene\n",
      "\n",
      "\u001b[31m\u001b[5mgstd1\n"
     ]
    },
    {
     "data": {
      "image/png": "[encoded data removed]",
      "text/plain": [
       "<Figure size 432x288 with 1 Axes>"
      ]
     },
     "metadata": {
      "needs_background": "light"
     },
     "output_type": "display_data"
    },
    {
     "name": "stdout",
     "output_type": "stream",
     "text": [
      "gagcccacttttataggggccggctgtggtcgccacaatgccggcaaacaagagttgtagcttgaagcgccccgcggggcgtggcaaggtggggagagaggtacagagagagagagagggggctgctagttgttgtcgtgcctgggttttttttttgtcttctattatattctgacttgcccacacatacccactaatggcgggcaaaaatgtgacgttagcggcgtgattaatacactgttgtgtggccatgggtgtgtggagacgattgatagtgtgtgtgtgcgtgctctggaggaggttgcactctatc\u001b[1m\u001b[34mCGTTCCCTCATAC\u001b[0macctccaccatacccccgcaaaagaaagctgcaactttctaatgatcctccattggaacgaagccttttactcgcttaagaacaaattttgttacatttctttataatttctgattttaacaaacagataacaaagaagatacaatcctgccatacaggtattattaatcgtagggtatttacacatcgacttgctaagattagcaaacacataagcatgcaatcgattagcttgaaacacaattttgcatttctaatgaacatctgtgcgcctgaaaaaacataaattcttttaaaatgcaaaaaaaaataagtacaaacaaataagcaggcaaacagaaaccagataagaattcaagccggccggcaaacattgatatcaggcaaacatatatgtatgtatgtacatatgtacatatatagcaacagttgtcgagtatttccaacacacaagcaaatcgcgaaaggctcataccgtactaataagaccataaaaatataaccgtttttcgaattattcaatatactttgactcatagtaataattttaatgggtaagcccaagctatggtagacaaatagtagtagattaaatgatgagtcaaaggcacatgcaaattcgaaattactggtacacattttcaatgtaacaatatggatgggcttagtccatatatcgatcgacttttattgtttgtgtttgttatgacggccttgggttttaataagtaattgctgtgaccatataacatgaaaaggaatactagactttcatttcttggaagtatttgatactatcaaaggcgaacacttgaatattcctgctacacttcgctgggggtatttaatttccccaaaacaaattcgcttttatcagtttcacaattcgcaataccaactatcagcatgaccgggcaaaaaaattcaataacaagtaggaaaaaatggaaagagcattttcgtgggcgacacgtcaaacaaattgcgctcttaacgtcgagaacaatccacaaaacgattgtgaaatcaaaaattccgaaccccaagttccgagagttactcatttgaacataatgccgaaatccagctgaatcatgggaaacacgagatcgtaagtataagttcgccaataactggttgggttaattcaccaaaaagccggcccaaaaggtagcgtaaaatgtagagaaaggtcactgtgtttgccactgcagatcaaaaaaaccagttggacggcattgccaaatgtgcgtcacaggaaaataaagtgaaaagcgcaaactatttaaagagcaaagccaaagagaatggataggacgaagagccccaataatctcttacctccacatcatcgagatcttctgccggcctcccatatgagcacatttagcctacatacatctactttctcgattccgtttgccggtgattcgctttgtgtacagctgcgctgatctttctccgatctccgctttagaatacatattataccataaaactgaatatgttcaagtttagattgatatataaaaaagtaataaattattattattaaatttatgaagatctggggtgtgtccacatgtactcttacttccatatgacggcttgaacatacttttgaacatatttttcgaaatgtcaacaaaaaatgttgaaaatttttcctgttcttccacttgttttctcttgttcttattgaagtttgatttttaacatttaaaaaaccttcgtatgcatttgatttaatgaatcctctttgttttaattattttgctcggagcactataaaaacagaaattaaaatatcgatatatttatatataaacatataatataatatgattaccatatccgttactcagctagtgtgaatgtgaacgcga\u001b[1m\u001b[34mAATTTCATCATTT\u001b[0mttcatttttcattttctttttttgtttactacaataatacaattcatatataacacctttaagctattt\u001b[1m\u001b[34mTATTTCATCACCC\u001b[0mtttgtttgctgcctgtagtgtatggtaccaattttgtgactcatggaagtttacttatttaaatcgctccattccccttacgataaccatctaatcatacaaactagcataagctcgaacagaagtatacacattatgcacttgaaattatcattagcgctttcgtggcaccccttattagtcataatatgtacatacctcaaaaccgaaaagaacaaaagtttgaaaaagtttattctagccatgactggcattttttccaattgcaagacaaacaaaccacgcaagcataagcaaatgggtggagataattggtcgagcatttccctataaaagaaattaggtttactgggaattgtcaggcgtagttcagcactcagcaggttaacaacc \n",
      "\n",
      "\u001b[31m3 binding sites\n",
      "\u001b[34mCGTTCCCTCATAC: 77 percent of the max binding score\n",
      "AATTTCATCATTT: 83 percent of the max binding score\n",
      "TATTTCATCACCC: 86 percent of the max binding score\u001b[32m\n",
      "\n",
      "\u001b[31m\u001b[5mthor\n"
     ]
    },
    {
     "data": {
      "image/png": "[encoded data removed]",
      "text/plain": [
       "<Figure size 432x288 with 1 Axes>"
      ]
     },
     "metadata": {
      "needs_background": "light"
     },
     "output_type": "display_data"
    },
    {
     "name": "stdout",
     "output_type": "stream",
     "text": [
      "taagtttcgaaaattggaagctgagactacatcgagtattattaagttccttccggaaagtggagtgattttcttatcattagatatgatatcaagatgaaattaatcaacatatttcgaaaacataaacaagtataccgtttctttcctttgctcaaacaacaaacaagcttttgtttgagttgtgatacattatttttgtaaaactcactcaccatttttt\u001b[1m\u001b[32mGGCTGATGAAACT\u001b[0mgggccatctcgccgagtcagtcagttggaagataatcccgagcacatgttccacagttcgtgactcagagtagcgcggcaaagaagcgtttactcagctggcttatcagtggggaactttgaatacct\u001b[1m\u001b[32mTTCTGATGCAACG\u001b[0mcagaccaccttgactaataaaaatttccgctttcctataattcc\n",
      "\n",
      "\u001b[31m2 binding sites\n",
      "\u001b[34m\u001b[32mGGCTGATGAAACT: 79 percent of the max binding score\n",
      "TTCTGATGCAACG: 82 percent of the max binding score\n"
     ]
    }
   ],
   "source": [
    "from termcolor import colored \n",
    "from colorama import Fore\n",
    "from colorama import Style\n",
    "from matplotlib import pyplot\n",
    "import matplotlib.patches as mpatches\n",
    "import re\n",
    "## user inputs column names to access values from dataframe\n",
    "## for loop goes through DNA sequences in data frame and analyzes each\n",
    "print(\"Input name of column with DNA sequences\")\n",
    "DNA_column = dna_sequences[input()]\n",
    "print(\"Input name of column with gene names\")\n",
    "gene_column = dna_sequences[input()]\n",
    "for i in range(len(DNA_column)):\n",
    "    ## accesses sequences from spreadsheet \n",
    "    DNA = DNA_column.iloc[i]\n",
    "    seq = str(DNA).lower()\n",
    "    gene = gene_column.iloc[i]\n",
    "    print('\\n' + Fore.RED + '\\033[5m' + gene)\n",
    "    ## reads DNA sequence moving through one base pair at a time and creating binding scores for sequences equal to the length of the transcription factor binding site\n",
    "    def transcription_factor (seq, profile):\n",
    "        width = len(profile['T'])\n",
    "        bindingscore = []\n",
    "        for i in range(len(seq)-width):\n",
    "            score = 0\n",
    "            for j in range(width):\n",
    "                letter = seq[i+j]\n",
    "                score += profile[letter][j]\n",
    "            bindingscore.append (score)\n",
    "        return bindingscore \n",
    "    upperseq = seq.upper()\n",
    "    bindingscores = transcription_factor(upperseq, profile)\n",
    "    revcompbindingscores = transcription_factor (upperseq, profilerevcomp)\n",
    "    ## generates figures \n",
    "    pyplot.plot (revcompbindingscores)\n",
    "    pyplot.ylim (0.76 * max_score, max_score)\n",
    "    pyplot.plot (bindingscores, \"green\")\n",
    "    pyplot.ylim (0.76 * max_score, max_score)\n",
    "    green_patch = mpatches.Patch(color='green', label='forward strand sites')\n",
    "    blue_patch = mpatches.Patch(color='blue', label='reverse strand sites')\n",
    "    pyplot.legend(handles=[green_patch, blue_patch])\n",
    "    pyplot.show()\n",
    "    ## presents binding site information \n",
    "    forsites = []\n",
    "    forpairs = []\n",
    "    revsites = []\n",
    "    revpairs = []\n",
    "    def binding_sites (binding, sites, pairs): \n",
    "        for i in range (len(binding)):\n",
    "            if binding[i] > 0.76 * max_score: \n",
    "                number = binding[i]\n",
    "                sequence = DNA[i:i + len(profile['A'])]\n",
    "                sites.append(sequence)\n",
    "                percent_max_score = int(number/max_score * 100.0)\n",
    "                pair = sequence.upper() + ': ' + str(percent_max_score) + \" percent of the max binding score\"\n",
    "                pairs.append(str(pair))\n",
    "        return sites, pairs \n",
    "    binding_sites(bindingscores, forsites, forpairs)\n",
    "    binding_sites(revcompbindingscores, revsites, revpairs)\n",
    "    ## color codes sites and displays them in the DNA sequence \n",
    "    def replace_all(text, sites, color):\n",
    "        for i in range (len(sites)):\n",
    "            visible_sites = colored(sites[i].upper(), color, attrs=['bold'])\n",
    "            text = text.replace(sites[i], visible_sites)\n",
    "        return text\n",
    "    forDNA = replace_all(seq, forsites, 'green')\n",
    "    finalDNA = replace_all(forDNA, revsites, 'blue')\n",
    "    print(finalDNA)\n",
    "    ##presents binding scores for both original and revcomp\n",
    "    allsites = forsites + revsites\n",
    "    print('\\n' + Fore.RED + str(len(allsites)) + ' binding sites')\n",
    "    print(Fore.BLUE + '\\n'.join(revpairs) + Fore.GREEN + '\\n'.join(forpairs))"
   ]
  }
 ],
 "metadata": {
  "kernelspec": {
   "display_name": "Python 3",
   "language": "python",
   "name": "python3"
  },
  "language_info": {
   "codemirror_mode": {
    "name": "ipython",
    "version": 3
   },
   "file_extension": ".py",
   "mimetype": "text/x-python",
   "name": "python",
   "nbconvert_exporter": "python",
   "pygments_lexer": "ipython3",
   "version": "3.7.4"
  }
 },
 "nbformat": 4,
 "nbformat_minor": 2
}
